{
 "cells": [
  {
   "cell_type": "markdown",
   "id": "347a555c",
   "metadata": {},
   "source": [
    "# My Jupyter Notebook on IBM Watson Studio"
   ]
  },
  {
   "cell_type": "markdown",
   "id": "df541d01",
   "metadata": {},
   "source": [
    "**Mohamed Ali**  \n",
    "I am currently working as Network Engineer."
   ]
  },
  {
   "cell_type": "markdown",
   "id": "76feb562",
   "metadata": {},
   "source": [
    "*I am interested in data science because, I want to change my career. I want to learn more about DS to see if it will be suitable for me.*"
   ]
  },
  {
   "cell_type": "markdown",
   "id": "9912fa19",
   "metadata": {},
   "source": [
    "### The code will calculate 2 to the power of 10 (2**10)"
   ]
  },
  {
   "cell_type": "code",
   "execution_count": 1,
   "id": "8d0c81bb",
   "metadata": {},
   "outputs": [
    {
     "data": {
      "text/plain": [
       "1024"
      ]
     },
     "execution_count": 1,
     "metadata": {},
     "output_type": "execute_result"
    }
   ],
   "source": [
    "2**10"
   ]
  },
  {
   "cell_type": "markdown",
   "id": "b2f50613",
   "metadata": {},
   "source": [
    "---------------------------\n",
    "* item1\n",
    "* item2\n",
    "* item3\n",
    "---------------------------\n",
    "1. item1\n",
    "2. item2\n",
    "3. item3\n",
    "---------------------------\n",
    "[link to google](google.com) \n",
    "\n",
    "---------------------------  \n",
    "```\n",
    "print(\"Hello world\")\n",
    "```\n",
    "---------------------------\n",
    "> This a blocked quote.\n"
   ]
  },
  {
   "cell_type": "code",
   "execution_count": null,
   "id": "68df2fc5",
   "metadata": {},
   "outputs": [],
   "source": []
  }
 ],
 "metadata": {
  "kernelspec": {
   "display_name": "Python 3 (ipykernel)",
   "language": "python",
   "name": "python3"
  },
  "language_info": {
   "codemirror_mode": {
    "name": "ipython",
    "version": 3
   },
   "file_extension": ".py",
   "mimetype": "text/x-python",
   "name": "python",
   "nbconvert_exporter": "python",
   "pygments_lexer": "ipython3",
   "version": "3.9.13"
  }
 },
 "nbformat": 4,
 "nbformat_minor": 5
}
